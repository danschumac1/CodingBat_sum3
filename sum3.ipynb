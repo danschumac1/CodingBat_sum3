{
 "cells": [
  {
   "cell_type": "markdown",
   "id": "44a6d834",
   "metadata": {},
   "source": [
    "# List-1 > sum3"
   ]
  },
  {
   "cell_type": "markdown",
   "id": "70b227a8",
   "metadata": {},
   "source": [
    "Given an array of ints length 3, return the sum of all the elements.\n",
    "\n",
    "\n",
    "sum3([1, 2, 3]) → 6\n",
    "\n",
    "sum3([5, 11, 2]) → 18\n",
    "\n",
    "sum3([7, 0, 0]) → 7"
   ]
  },
  {
   "cell_type": "code",
   "execution_count": 1,
   "id": "a596f7d6",
   "metadata": {},
   "outputs": [],
   "source": [
    "def sum3(nums):\n",
    "  return sum(nums)"
   ]
  }
 ],
 "metadata": {
  "kernelspec": {
   "display_name": "Python 3 (ipykernel)",
   "language": "python",
   "name": "python3"
  },
  "language_info": {
   "codemirror_mode": {
    "name": "ipython",
    "version": 3
   },
   "file_extension": ".py",
   "mimetype": "text/x-python",
   "name": "python",
   "nbconvert_exporter": "python",
   "pygments_lexer": "ipython3",
   "version": "3.9.12"
  }
 },
 "nbformat": 4,
 "nbformat_minor": 5
}
